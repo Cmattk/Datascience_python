{
 "cells": [
  {
   "cell_type": "markdown",
   "id": "53f52e4c-bc37-46fb-b828-586b89ee60f8",
   "metadata": {},
   "source": [
    "Label Encoding is a technique that is used to convert categorical columns into numerical ones so that they can be fitted by machine learning models which only take numerical data.\n",
    "\n",
    "It assigns a unique integer to each category in the data, making it suitable for machine learning models that work with numerical inputs.\n",
    "\n",
    "import numpy as np\n",
    "import pandas as pd\n",
    "\n",
    "df = pd.read_csv('../../data/Iris.csv')\n",
    "df['species'].unique()\n",
    "\"\"\"outcome\n",
    "array(['Iris-setosa', 'Iris-versicolor', 'Iris-virginica'], dtype=object)\n",
    "\"\"\"\n",
    "from sklearn.preprocessing import LabelEncoder\n",
    "\n",
    "label_encoder = LabelEncoder()\n",
    "df['species']= label_encoder.fit_transform(df['species'])\n",
    "\n",
    "df['species'].unique()\n",
    "\n",
    "\"\"outcome\n",
    "array([0, 1, 2], dtype=int64)\n",
    "\"\"\n",
    "pros:\n",
    "Label Encoding is straightforward to use. It requires less preprocessing because it directly converts each unique category into a numeric value.\n",
    "\n",
    "Label Encoding works well for ordinal data, where the order of categories is meaningful (e.g., Low, Medium, High). The numerical representation saves the relationship between categories\n",
    "Example: (Low = 0, Medium = 1, High = 2), which helps the model understand their ranking or progression. It avoids unnecessary computations, making it both efficient and relevant in such cases.\n",
    "\n",
    "limitations:\n",
    "If the encoded values imply a relationship (e.g., Red = 0 and Blue = 2 might suggest Red < Blue), the model may incorrectly interpret the data as ordinal. To address this, we consider using One-Hot Encoding.\n",
    "\n",
    "\n"
   ]
  },
  {
   "cell_type": "markdown",
   "id": "265b220b-6008-4432-8718-46273358a502",
   "metadata": {},
   "source": [
    "OneHotEncoder:\n",
    "Real-life datasets often have categorical and numerical columns.\n",
    "Machine learning models need numerical data, requiring conversion of categorical data.\n",
    "Label encoding can introduce bias; one-hot encoding is a better approach.\n",
    "One-hot-encoding creates separate columns for each category, using binary values.\n",
    "One-hot encoding prevents ordinality issues and improves model performance.\n",
    "\n",
    "Challenges with one-hot encoding: \n",
    "increases dimensionality, complexity, slow training, and risk of overfitting.\n",
    "\n",
    "Important to use encoding methods cautiously to avoid overfitting.\n",
    "\n",
    "Steps to implement one-hot encoding in Python: import libraries, read CSV, create dataframe, get unique elements, count values.\n",
    "\n",
    "Two methods for one-hot encoding in Python:\n",
    "Using Pandas library with pd.get_dummies().\n",
    "Using scikit-learn library with OneHotEncoder()."
   ]
  },
  {
   "cell_type": "code",
   "execution_count": 17,
   "id": "6a7ee25d-eddd-4953-b125-56e2f50ded59",
   "metadata": {},
   "outputs": [
    {
     "name": "stdout",
     "output_type": "stream",
     "text": [
      "Original Employee Data:\n",
      "   Employee id Gender Remarks\n",
      "0           10      M    Good\n",
      "1           20      F    Nice\n",
      "2           15      F    Good\n",
      "3           25      M   Great\n",
      "4           30      F    Nice\n",
      "\n",
      "One-Hot Encoded Data using Pandas:\n",
      "   Employee id  Gender_M  Remarks_Great  Remarks_Nice\n",
      "0           10      True          False         False\n",
      "1           20     False          False          True\n",
      "2           15     False          False         False\n",
      "3           25      True           True         False\n",
      "4           30     False          False          True\n",
      "\n"
     ]
    }
   ],
   "source": [
    "\"\"\"get_dummies().\"\"\"\n",
    "import pandas as pd\n",
    "from sklearn.preprocessing import OneHotEncoder\n",
    "\n",
    "data = {\n",
    "    'Employee id': [10, 20, 15, 25, 30],\n",
    "    'Gender': ['M', 'F', 'F', 'M', 'F'],\n",
    "    'Remarks': ['Good', 'Nice', 'Good', 'Great', 'Nice']\n",
    "}\n",
    "df = pd.DataFrame(data)\n",
    "categorical_columns = df[[\"Gender\",\"Remarks\"]]\n",
    "print(f\"Original Employee Data:\\n{df}\\n\")\n",
    "# Use pd.get_dummies() to one-hot encode the categorical columns\n",
    "df_pandas_encoded = pd.get_dummies(df, columns=['Gender', 'Remarks'], drop_first=True)\n",
    "print(f\"One-Hot Encoded Data using Pandas:\\n{df_pandas_encoded}\\n\")"
   ]
  },
  {
   "cell_type": "markdown",
   "id": "b616d8dc-aa3b-4c3f-9f3e-505a59bd2af6",
   "metadata": {},
   "source": [
    "OneHotEncoder()\n",
    "Using df.select_dtypes(include=['object']) in Scikit Learn Library:\n",
    "This selects only the columns with categorical data (data type object).\n",
    "In this case, ['Gender', 'Remarks'] are identified as categorical columns."
   ]
  },
  {
   "cell_type": "code",
   "execution_count": 33,
   "id": "1547b9cd-d9d3-4e63-b8cb-58487849c8db",
   "metadata": {},
   "outputs": [
    {
     "name": "stdout",
     "output_type": "stream",
     "text": [
      "Employee data : \n",
      "   Employee id Gender Remarks\n",
      "0           10      M    Good\n",
      "1           20      F    Nice\n",
      "2           15      F    Good\n",
      "3           25      M   Great\n",
      "4           30      F    Nice\n",
      "Encoded Employee data : \n",
      "   Employee id Gender Remarks  Gender_F  Gender_M  Remarks_Good  \\\n",
      "0           10      M    Good       0.0       1.0           1.0   \n",
      "1           20      F    Nice       1.0       0.0           0.0   \n",
      "2           15      F    Good       1.0       0.0           1.0   \n",
      "3           25      M   Great       0.0       1.0           0.0   \n",
      "4           30      F    Nice       1.0       0.0           0.0   \n",
      "\n",
      "   Remarks_Great  Remarks_Nice  \n",
      "0            0.0           0.0  \n",
      "1            0.0           1.0  \n",
      "2            0.0           0.0  \n",
      "3            1.0           0.0  \n",
      "4            0.0           1.0  \n"
     ]
    }
   ],
   "source": [
    "import pandas as pd\n",
    "from sklearn.preprocessing import OneHotEncoder\n",
    "\n",
    "data = {'Employee id': [10, 20, 15, 25, 30],\n",
    "        'Gender': ['M', 'F', 'F', 'M', 'F'],\n",
    "        'Remarks': ['Good', 'Nice', 'Good', 'Great', 'Nice'],\n",
    "        }\n",
    "df = pd.DataFrame(data)\n",
    "print(f\"Employee data : \\n{df}\")\n",
    "categorical_columns = df.select_dtypes(include=['object']).columns.tolist()\n",
    "encoder = OneHotEncoder(sparse_output=False) # instatiate \n",
    "one_hot_encoded = encoder.fit_transform(df[categorical_columns])\n",
    "one_hot_df = pd.DataFrame(one_hot_encoded, columns=encoder\n",
    "                          .get_feature_names_out(categorical_columns))\n",
    "df_encoded = pd.concat([df, one_hot_df], axis=1) # combine df's with columns\n",
    "print(f\"Encoded Employee data : \\n{df_encoded}\")"
   ]
  },
  {
   "cell_type": "markdown",
   "id": "4acd5f4d-ecb7-4b08-a4b1-5cf3bbd3a61f",
   "metadata": {},
   "source": [
    "*Ordinal Encoding*\n",
    "Overview:\n",
    "Ordinal encoding converts ordered data into numerical values for computational use, crucial for machine learning algorithms.\n",
    "\n",
    "Key Pointers:\n",
    "Converts data categories like \"small,\" \"medium,\" \"large\" into numerical values.\n",
    "Preserves the hierarchy among categories.\n",
    "Essential for machine learning which requires numerical data.\n",
    "\n",
    "***The important thing to remember is that these categories have a purposeful hierarchy. Here are some key terms to remember:***\n",
    "\n",
    "Category: A group of similar things, like the movie ratings.\n",
    "Ordinal Data: Data that has a natural order like movie ratings shirt sizes (small, medium, large), or video game difficulty levels (easy, normal, hard).\n",
    "Encoding: Converting data into a format a computer can understand.\n",
    "\n",
    "pip install scikit-learn\n",
    "import pandas as pd\n",
    "from sklearn.preprocessing import OrdinalEncoder\n",
    "data = {\n",
    "    'Student': ['Alice', 'Bob', 'Charlie', 'David', 'Eva'],\n",
    "    'Grade': ['A', 'B', 'C', 'A', 'B']\n",
    "}\n",
    "df = pd.DataFrame(data)\n",
    "print(df)\n",
    "\n",
    "    Student Grade\n",
    "0    Alice     A\n",
    "1      Bob     B\n",
    "2  Charlie     C\n",
    "3    David     A\n",
    "4      Eva     B\n",
    "\n",
    "encoder = OrdinalEncoder(categories=[['A', 'B', 'C']])\n",
    "df['Grade_encoded'] = encoder.fit_transform(df[['Grade']])\n",
    "print(df)\n",
    "\n",
    "    Student  Grade       Grade_encoded\n",
    "0    Alice     A            0.0\n",
    "1      Bob     B            1.0\n",
    "2  Charlie     C            2.0\n",
    "3    David     A            0.0\n",
    "4      Eva     B            1.0"
   ]
  },
  {
   "cell_type": "code",
   "execution_count": 35,
   "id": "7cc98b9b-fd7c-4c8e-b33c-790e2bbcf37f",
   "metadata": {},
   "outputs": [],
   "source": [
    "import pandas as pd\n",
    "from sklearn.preprocessing import OrdinalEncoder\n",
    "import matplotlib.pyplot as plt\n",
    "import seaborn as sns"
   ]
  },
  {
   "cell_type": "code",
   "execution_count": 37,
   "id": "33b84041-5a63-4ab1-b6d5-edc651fcfe63",
   "metadata": {},
   "outputs": [
    {
     "name": "stdout",
     "output_type": "stream",
     "text": [
      "Original Data:\n",
      "   Survived  Pclass                                               Name  \\\n",
      "0         0       3                             Mr. Owen Harris Braund   \n",
      "1         1       1  Mrs. John Bradley (Florence Briggs Thayer) Cum...   \n",
      "2         1       3                              Miss. Laina Heikkinen   \n",
      "3         1       1        Mrs. Jacques Heath (Lily May Peel) Futrelle   \n",
      "4         0       3                            Mr. William Henry Allen   \n",
      "\n",
      "      Sex   Age  Siblings/Spouses Aboard  Parents/Children Aboard     Fare  \n",
      "0    male  22.0                        1                        0   7.2500  \n",
      "1  female  38.0                        1                        0  71.2833  \n",
      "2  female  26.0                        0                        0   7.9250  \n",
      "3  female  35.0                        1                        0  53.1000  \n",
      "4    male  35.0                        0                        0   8.0500  \n"
     ]
    }
   ],
   "source": [
    "\"\"\"load the \"Titanic\" dataset directly from a URL.\"\"\"\n",
    "# Load the Titanic dataset\n",
    "url = \"https://web.stanford.edu/class/archive/cs/cs109/cs109.1166/stuff/titanic.csv\"\n",
    "df = pd.read_csv(url)\n",
    "print(\"Original Data:\")\n",
    "print(df.head())\n",
    "\n"
   ]
  },
  {
   "cell_type": "code",
   "execution_count": 39,
   "id": "56a69994-bb25-4ef2-9a02-56dc70cc5854",
   "metadata": {},
   "outputs": [
    {
     "data": {
      "image/png": "[encoded data removed]",
      "text/plain": [
       "<Figure size 640x480 with 1 Axes>"
      ]
     },
     "metadata": {},
     "output_type": "display_data"
    }
   ],
   "source": [
    "# Visualizing the 'Sex' column\n",
    "sns.countplot(x='Sex', data=df)\n",
    "plt.title('Original Sex Distribution')\n",
    "plt.show()"
   ]
  },
  {
   "cell_type": "code",
   "execution_count": 41,
   "id": "82c5affc-85ad-4240-baa0-a9d8163e4c43",
   "metadata": {},
   "outputs": [
    {
     "name": "stdout",
     "output_type": "stream",
     "text": [
      "\n",
      "Encoded Data:\n",
      "      Sex  Sex_encoded\n",
      "0    male          1.0\n",
      "1  female          0.0\n",
      "2  female          0.0\n",
      "3  female          0.0\n",
      "4    male          1.0\n"
     ]
    }
   ],
   "source": [
    "# Initialize the OrdinalEncoder\n",
    "encoder = OrdinalEncoder(categories=[['female', 'male']])\n",
    "df['Sex_encoded'] = encoder.fit_transform(df[['Sex']])\n",
    "print(\"\\nEncoded Data:\")\n",
    "print(df[['Sex', 'Sex_encoded']].head())\n"
   ]
  },
  {
   "cell_type": "code",
   "execution_count": 43,
   "id": "074e8130-e300-444d-adb3-90b6ed989fda",
   "metadata": {},
   "outputs": [
    {
     "data": {
      "image/png": "[encoded data removed]",
      "text/plain": [
       "<Figure size 640x480 with 1 Axes>"
      ]
     },
     "metadata": {},
     "output_type": "display_data"
    }
   ],
   "source": [
    "# Visualizing the encoded data\n",
    "sns.countplot(x='Sex_encoded', data=df)\n",
    "plt.title('Encoded Sex Distribution')\n",
    "plt.show()\n"
   ]
  },
  {
   "cell_type": "markdown",
   "id": "722cfcb3-2dc9-4d8e-a164-0eaca2d6ce65",
   "metadata": {},
   "source": [
    "When the categories have a natural order, ordinal encoding is a simple yet effective method for turning categorical data into numerical representation. This procedure is significantly more accessible, when Sklearn is used."
   ]
  }
 ],
 "metadata": {
  "kernelspec": {
   "display_name": "Python [conda env:base] *",
   "language": "python",
   "name": "conda-base-py"
  },
  "language_info": {
   "codemirror_mode": {
    "name": "ipython",
    "version": 3
   },
   "file_extension": ".py",
   "mimetype": "text/x-python",
   "name": "python",
   "nbconvert_exporter": "python",
   "pygments_lexer": "ipython3",
   "version": "3.12.7"
  }
 },
 "nbformat": 4,
 "nbformat_minor": 5
}
