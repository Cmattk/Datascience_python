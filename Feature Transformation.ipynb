{
 "cells": [
  {
   "cell_type": "markdown",
   "id": "d20d9cd3-39d7-47d9-97fe-197afc953248",
   "metadata": {},
   "source": [
    "Most machine learning algorithms are statistics dependent, meaning that all of the algorithms are indirectly using a statistical approach to solve the complex problems in the data. In statistics, the normal distribution of the data is one that a statistician desires to be. \n",
    "\n",
    "A normal distribution of the data helps statisticians to solve the complex patterns of the data and gain valuable insights from the same. \n",
    "\n",
    "But for the algorithm scenario, a normal distribution of the data can not be desired every time with every type of dataset, which means the data which is not normally distributed needs preprocessing and cleaning before applying the machine learning algorithm to it.\n",
    "\n",
    "Transformers are the type of functions that are applied to data that is not normally distributed, and once applied there is a high of getting normally distributed data.\n",
    "\n",
    "Feature transformation techniques:\n",
    "Function Transformers\n",
    "Power Transformers\n",
    "Quantile Transformers"
   ]
  },
  {
   "cell_type": "markdown",
   "id": "e27cb229-d508-4122-aa77-d863e2177fc4",
   "metadata": {},
   "source": [
    "A. Function Transformers\n",
    "Uses a particular function to transform the data to the normal distribution. Here the particular function is applied to the data observations.\n",
    "\n",
    "Mostly there are 5 types of function transformers that are used and which also solve the issue of normal distribution almost every time."
   ]
  },
  {
   "cell_type": "markdown",
   "id": "13f69bd1-62cb-43a6-a923-af0fbc5723f5",
   "metadata": {},
   "source": [
    "Log Transform\n",
    "log is applied to every single distribution of the data and the result from the log is considered the final day to feed the machine learning algorithms.\n",
    "Log transforms performs so well on the right-skewed data. It transforms the right-skewed data into normally distributed data so well."
   ]
  },
  {
   "cell_type": "code",
   "execution_count": 59,
   "id": "0b5e99a3-419b-4ff2-88f5-e603c7969625",
   "metadata": {},
   "outputs": [
    {
     "data": {
      "text/plain": [
       "array([4.48863637, 4.15888308, 4.2341065 , 3.93182563, 3.63758616,\n",
       "       4.06044301, 4.59511985, 4.59511985, 3.95124372, 4.57471098])"
      ]
     },
     "execution_count": 59,
     "metadata": {},
     "output_type": "execute_result"
    }
   ],
   "source": [
    "import numpy as np\n",
    "from sklearn.preprocessing import FunctionTransformer \n",
    "transform = FunctionTransformer(func=np.log1p)\n",
    "data = np.random.randint(10,99,1000)\n",
    "transformed_data = transform.fit_transform(data) \n",
    "transformed_data[:10]"
   ]
  },
  {
   "cell_type": "markdown",
   "id": "65a1cb6c-da48-4993-90bc-271412df1a7d",
   "metadata": {},
   "source": [
    "Square Root Transform.\n",
    "In this transform, the square root of the data is calculated. This transform performs so well on the left-skewed data and efficiently transformed the left-skewed data into normally distributed data."
   ]
  },
  {
   "cell_type": "code",
   "execution_count": 61,
   "id": "f2b328a8-156f-42ef-9c32-312feb2c6ac4",
   "metadata": {},
   "outputs": [
    {
     "data": {
      "text/plain": [
       "array([9.38083152, 7.93725393, 8.24621125, 7.07106781, 6.08276253,\n",
       "       7.54983444, 9.89949494, 9.89949494, 7.14142843, 9.79795897])"
      ]
     },
     "execution_count": 61,
     "metadata": {},
     "output_type": "execute_result"
    }
   ],
   "source": [
    "tranformed_data = np.sqrt(data)\n",
    "tranformed_data[:10]"
   ]
  },
  {
   "cell_type": "markdown",
   "id": "3f0dc892-7d1f-4c5f-b235-7ee94324017c",
   "metadata": {},
   "source": [
    "Reciprocal Transform\n",
    "In this transformation, the reciprocal of every observation is considered. This transform is useful in some of the datasets as the reciprocal of the observations works well to achieve normal distributions."
   ]
  },
  {
   "cell_type": "code",
   "execution_count": 66,
   "id": "0053e140-c4fb-4f49-b19a-98535965eae8",
   "metadata": {},
   "outputs": [
    {
     "data": {
      "text/plain": [
       "array([0, 0, 0, 0, 0])"
      ]
     },
     "execution_count": 66,
     "metadata": {},
     "output_type": "execute_result"
    }
   ],
   "source": [
    "tranformed_data = np.reciprocal(data) \n",
    "tranformed_data[:5]"
   ]
  },
  {
   "cell_type": "markdown",
   "id": "7bac6d0a-5cc3-4655-bd44-8d1b8a6ca4af",
   "metadata": {},
   "source": [
    "Custom Transforms\n",
    "In every dataset, the log and square root transforms can not be used, as every data can have different patterns and complexity. Based on the domain knowledge of the data, custom transformations can be applied to transform the data into a normal distribution. The custom transforms here can be any function or parameter like sin, cos, tan, cube, etc."
   ]
  },
  {
   "cell_type": "code",
   "execution_count": 74,
   "id": "df3cd785-b693-414f-aee8-de71d0e3ee06",
   "metadata": {},
   "outputs": [
    {
     "name": "stdout",
     "output_type": "stream",
     "text": [
      "sin_tranformed_data:[ 0.0353983   0.1673557  -0.89792768 -0.26237485 -0.64353813],cos_tranformed_data:[0.99937328 0.98589658 0.44014302 0.96496603],tan_tranformed_data:[ 0.0354205   0.16974975 -2.0400816 ]\n"
     ]
    }
   ],
   "source": [
    "import numpy as np \n",
    "sin_tranformed_data = np.sin(data) \n",
    "cos_tranformed_data = np.cos(data) \n",
    "tan_tranformed_data = np.tan(data)\n",
    "print(f\"sin_tranformed_data:{sin_tranformed_data[:5]},cos_tranformed_data:{cos_tranformed_data[:4]},tan_tranformed_data:{tan_tranformed_data[:3]}\")"
   ]
  },
  {
   "cell_type": "markdown",
   "id": "d2e1c49f-eec8-43fa-849f-d8911ba911c4",
   "metadata": {},
   "source": [
    "B. Power Transformers\n",
    "Type of feature transformation technique where the power is applied to the data observations for transforming the data.\n",
    "\n",
    "Two types of Power Transformation techniques:\n",
    "Box-Cox Transform\n",
    "Yeo-Johnson Transform"
   ]
  },
  {
   "attachments": {},
   "cell_type": "markdown",
   "id": "57470163-bbe3-46f1-8436-6107f969d4e8",
   "metadata": {},
   "source": [
    "Box-Cox Transform\n",
    "This transform technique is mainly used for transforming the data observations by applying power to them.\n",
    "The power of the data observations is denoted by Lambda(λ).\n",
    "X¡^⁁ = In X¡; for λ=0  or (X¡^⁁ - 1)/λ; for λ‡0\n",
    "Based upon the iteration technique every single value of the lambda is examined and the best fit value of the lambda is then applied to the data to transform it.\n",
    "transformed value of every data observation will lie between 5 to -5.\n",
    "One major disadvantage associated with this transformation technique is that this technique can only be applied to positive observations. it is not applicable for negative and zero values of the data observations."
   ]
  },
  {
   "cell_type": "code",
   "execution_count": 95,
   "id": "a61a96ad-a128-4924-9f74-538f097b32c7",
   "metadata": {},
   "outputs": [
    {
     "data": {
      "text/plain": [
       "array([[ 0.30149286,  1.35736088,  0.80430489,  1.3882269 ,  1.21758767,\n",
       "        -0.44174165,  0.79672738,  0.03676794,  0.39007534,  0.4481453 ],\n",
       "       [ 1.04584311, -0.33490933,  0.60523042, -0.4604052 , -1.23177874,\n",
       "        -0.94259307, -1.41025257, -1.24271484,  0.98219677, -1.38569838],\n",
       "       [-1.34733598, -1.02245155, -1.40953531, -0.9278217 ,  0.01419107,\n",
       "         1.38433472,  0.61352519,  1.20594691, -1.37227211,  0.93755309]])"
      ]
     },
     "execution_count": 95,
     "metadata": {},
     "output_type": "execute_result"
    }
   ],
   "source": [
    "from sklearn.preprocessing import PowerTransformer \n",
    "boxcox = PowerTransformer(method='box-cox')\n",
    "data2 = np.random.randint(100,size=(3,10)) #3 rows, each row containing 10 random integers from 0 to 100:\n",
    "data_transformed = boxcox.fit_transform(data2)\n",
    "data_transformed"
   ]
  },
  {
   "cell_type": "markdown",
   "id": "de0bc430-74e5-452a-86ff-47ddc2046c70",
   "metadata": {},
   "source": [
    "Yeo Johnson Transform\n",
    "This transformation technique is also a power transform technique, where the power of the data observations is applied to transform the data. This is an advanced form of a box cox transformations technique where it can be applied to even zero and negative values of data observations also.\n",
    "\n",
    "In scikit learn the default parameter is set to Yeo Johnson in the Power Transformer class."
   ]
  },
  {
   "cell_type": "code",
   "execution_count": 105,
   "id": "2d8ec384-d34f-4682-8d5f-c2d42fbf9b5e",
   "metadata": {},
   "outputs": [
    {
     "data": {
      "text/plain": [
       "array([[ 0.40386597, -1.30433908, -1.39924902,  0.69410758,  1.25060315,\n",
       "        -1.40270371,  1.30585089, -1.24192224, -1.23652482,  0.69568874],\n",
       "       [-1.37567453,  1.12548198,  0.52192636, -1.41413439, -1.19713531,\n",
       "         0.54541364, -0.18274986,  1.20681252,  1.21261481, -1.41415243],\n",
       "       [ 0.97180856,  0.1788571 ,  0.87732266,  0.72002681, -0.05346783,\n",
       "         0.85729007, -1.12310103,  0.03510971,  0.02391001,  0.71846369]])"
      ]
     },
     "execution_count": 105,
     "metadata": {},
     "output_type": "execute_result"
    }
   ],
   "source": [
    "boxcox = PowerTransformer() \n",
    "\"\"\"\n",
    "Use np.random.randint and pass the size parameter.\n",
    "For values in [-100, 100) and size (3, 100)  \n",
    "\"\"\"\n",
    "data2 = np.random.randint(-100,100, size = (3,10))\n",
    "data_transformed = boxcox.fit_transform(data2)\n",
    "data_transformed"
   ]
  },
  {
   "cell_type": "markdown",
   "id": "e410ba5a-1d91-4337-a3d1-0ac1f2d1c7c2",
   "metadata": {},
   "source": [
    "Quantile Transformers\n",
    "Quantile transformation techniques are the type of feature transformation technique that can be applied to NY numerical data observations. This transformation technique can be implemented using sklearn.\n",
    "\n",
    "In this transformation technique, the input data can be fed to this transformer where this transformer makes the distribution of the output data normal to fed to the further machine learning algorithm.\n",
    "\n",
    "Here there is a paramere called output_distribution, which value can be set to uniform or normal."
   ]
  },
  {
   "cell_type": "code",
   "execution_count": 129,
   "id": "122107c1-fe97-4913-a8f4-be70dc05faeb",
   "metadata": {},
   "outputs": [
    {
     "name": "stderr",
     "output_type": "stream",
     "text": [
      "C:\\Users\\kasin\\anaconda3\\Lib\\site-packages\\sklearn\\preprocessing\\_data.py:2829: UserWarning: n_quantiles (1000) is greater than the total number of samples (3). n_quantiles is set to n_samples.\n",
      "  warnings.warn(\n"
     ]
    },
    {
     "data": {
      "text/plain": [
       "array([4.48863637, 4.15888308, 4.2341065 , 3.93182563, 3.63758616])"
      ]
     },
     "execution_count": 129,
     "metadata": {},
     "output_type": "execute_result"
    }
   ],
   "source": [
    "from sklearn.preprocessing import QuantileTransformer \n",
    "quantile_trans = QuantileTransformer(output_distribution='normal') \n",
    "data = np.random.randint(-10,10, (3,2))\n",
    "data_transformed = quantile_trans.fit_transform(data) \n",
    "transformed_data[:5]"
   ]
  },
  {
   "cell_type": "markdown",
   "id": "30dcb954-cdbb-437d-97d0-f7b10ce612b4",
   "metadata": {},
   "source": [
    "Key Takeaways\n",
    "The featured transformation techniques are used to transform the data to normal distribution for better performance of the algorithm.\n",
    "The Log transforms perform so well on the right-skewed data. Whereas the square root transformers perform so well on left-skewed data.\n",
    "Based on the domain knowledge of the problem statement and the data, the custom data transformations technique can be also applied efficiently.\n",
    "Box-Cox transformations can be applied to only positive data observations which return the transformed values between -5 to 5.\n",
    "Yeo Johnson’s transformations technique can be applied to zero and negative values as well.\n",
    "Conclusion\n",
    "In this article, we discussed some of the famous and most used data transformation techniques that are used to transform the data from any other distribution to normal distribution. this will help one to apply data preprocessing and cleaning techniques n the complex data easily and will help one to answer some of the interview questions related to it very efficiently."
   ]
  }
 ],
 "metadata": {
  "kernelspec": {
   "display_name": "Python [conda env:base] *",
   "language": "python",
   "name": "conda-base-py"
  },
  "language_info": {
   "codemirror_mode": {
    "name": "ipython",
    "version": 3
   },
   "file_extension": ".py",
   "mimetype": "text/x-python",
   "name": "python",
   "nbconvert_exporter": "python",
   "pygments_lexer": "ipython3",
   "version": "3.12.7"
  }
 },
 "nbformat": 4,
 "nbformat_minor": 5
}
