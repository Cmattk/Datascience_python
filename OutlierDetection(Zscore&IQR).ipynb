{
 "cells": [
  {
   "cell_type": "markdown",
   "id": "a4ea601b-04a6-427c-b758-01fa5fb05e64",
   "metadata": {},
   "source": [
    "Z score for Outlier Detection\n",
    "\n",
    "Z score is also called standard score.\n",
    "This score helps to understand if a data value is greater or smaller than mean and how far away it is from the mean.\n",
    "More specifically, Z score tells how many standard deviations away a data point is from the mean.\n",
    "\n",
    "Z score = (x - mean) / sd\n",
    "\n",
    "In a normal distribution it is estimated that:\n",
    "68% of the data points lie between +/- 1 standard deviation. \n",
    "95% of the data points lie between +/- 2 standard deviation. \n",
    "99.7% of the data points lie between +/- 3 standard deviation.\n",
    "\"https://media.geeksforgeeks.org/wp-content/uploads/20200428193707/image-111-1.png\"\n",
    "\n",
    "If the z score of a data point is more than 3, it indicates that the data point is quite different from the other data points. Such a data point can be an outlier\n",
    "\n",
    "1, 2, 2, 2, 3, 1, 1, 15, 2, 2, 2, 3, 1, 1, 2\n",
    "\n",
    "Clearly, 15 is an outlier in this dataset.\n",
    "\n"
   ]
  },
  {
   "cell_type": "code",
   "execution_count": 3,
   "id": "7075a812-47a9-426e-a619-6bed285ad38f",
   "metadata": {},
   "outputs": [],
   "source": [
    "import numpy as np "
   ]
  },
  {
   "cell_type": "code",
   "execution_count": 5,
   "id": "ba6b400a-8f9f-4473-8ffe-5f7acd1b5064",
   "metadata": {},
   "outputs": [
    {
     "name": "stdout",
     "output_type": "stream",
     "text": [
      "mean of the dataset is 2.6666666666666665\n",
      "std. deviation is 3.3598941782277745\n"
     ]
    }
   ],
   "source": [
    "data = [1, 2, 2, 2, 3, 1, 1, 15, 2, 2, 2, 3, 1, 1, 2]\n",
    "mean = np.mean(data)\n",
    "std = np.std(data)\n",
    "print('mean of the dataset is', mean)\n",
    "print('std. deviation is', std)"
   ]
  },
  {
   "cell_type": "code",
   "execution_count": 11,
   "id": "3efab751-268d-49ba-a93b-8c60ac8f028e",
   "metadata": {},
   "outputs": [
    {
     "name": "stdout",
     "output_type": "stream",
     "text": [
      "outlier in dataset is [15]\n"
     ]
    }
   ],
   "source": [
    "threshold = 3\n",
    "outlier = []\n",
    "for i in data:\n",
    "    z = (i-mean)/std\n",
    "    if z > threshold:\n",
    "        outlier.append(i)\n",
    "print('outlier in dataset is', outlier)"
   ]
  },
  {
   "cell_type": "markdown",
   "id": "7df1051c-8d25-45ef-9a42-52a6714e4f35",
   "metadata": {},
   "source": [
    "**Interquartile Range to Detect Outliers in Data**\n",
    "\n",
    "Interquartile Range (IQR) is a technique that detects outliers by measuring the variability in a dataset.\n",
    "\n",
    "IQR is used to measure variability by dividing a data set (sorted in ascending order) into quartiles.\n",
    "Then we split it into 4 equal parts. The values Q1 (25th percentile), Q2 (50th percentile or median) and Q3 (75th percentile) separate dataset in 4 equal parts.\n",
    "Q2 = median of the dataset.\n",
    "Q1 = median of n smallest data points.\n",
    "Q3 = median of n highest data points.\n",
    "\n",
    "IQR = Q3−Q1\n",
    "Data points that fall below Q1−1.5×IQR or above Q3+1.5×IQR are considered outliers.\n",
    "6, 2, 1, 5, 4, 3, 50.\n",
    "50 is clearly an outlier\n"
   ]
  },
  {
   "cell_type": "code",
   "execution_count": 38,
   "id": "63a877b3-8663-4db1-b0b2-79bdcba41d2e",
   "metadata": {},
   "outputs": [],
   "source": [
    "import seaborn as sns"
   ]
  },
  {
   "cell_type": "code",
   "execution_count": 21,
   "id": "aa212255-70bb-456d-859e-bc9d08dfdf29",
   "metadata": {},
   "outputs": [
    {
     "data": {
      "text/plain": [
       "array([ 1,  2,  3,  4,  5,  6, 50])"
      ]
     },
     "execution_count": 21,
     "metadata": {},
     "output_type": "execute_result"
    }
   ],
   "source": [
    "data = [6, 2, 3, 4, 5, 1, 50]\n",
    "sort_data = np.sort(data)\n",
    "sort_data"
   ]
  },
  {
   "cell_type": "code",
   "execution_count": 27,
   "id": "a7eb8a74-a926-42bf-9bb9-72ec8d0351cd",
   "metadata": {},
   "outputs": [
    {
     "name": "stdout",
     "output_type": "stream",
     "text": [
      "Q1 25 percentile of the given data is,  2.5\n",
      "Q1 50 percentile of the given data is,  4.0\n",
      "Q1 75 percentile of the given data is,  5.5\n",
      "Interquartile range is 3.0\n"
     ]
    }
   ],
   "source": [
    "Q1 = np.percentile(sort_data, 25, interpolation = 'midpoint') \n",
    "Q2 = np.percentile(sort_data, 50, interpolation = 'midpoint') \n",
    "Q3 = np.percentile(sort_data, 75, interpolation = 'midpoint') \n",
    "\n",
    "print('Q1 25 percentile of the given data is, ', Q1)\n",
    "print('Q1 50 percentile of the given data is, ', Q2)\n",
    "print('Q1 75 percentile of the given data is, ', Q3)\n",
    "\n",
    "IQR = Q3 - Q1 \n",
    "print('Interquartile range is', IQR)\n"
   ]
  },
  {
   "cell_type": "code",
   "execution_count": 29,
   "id": "e4614122-7cfa-4829-8e40-4cd6be4f84e5",
   "metadata": {},
   "outputs": [
    {
     "name": "stdout",
     "output_type": "stream",
     "text": [
      "low_limit is -2.0\n",
      "up_limit is 10.0\n"
     ]
    }
   ],
   "source": [
    "low_lim = Q1 - 1.5 * IQR\n",
    "up_lim = Q3 + 1.5 * IQR\n",
    "print('low_limit is', low_lim)\n",
    "print('up_limit is', up_lim)\n"
   ]
  },
  {
   "cell_type": "code",
   "execution_count": 33,
   "id": "cdae1c26-9ea3-446e-93f8-74bf02affb5e",
   "metadata": {},
   "outputs": [
    {
     "name": "stdout",
     "output_type": "stream",
     "text": [
      " outlier in the dataset is [50]\n"
     ]
    }
   ],
   "source": [
    "outlier =[]\n",
    "for x in sort_data:\n",
    "    if ((x> up_lim) or (x<low_lim)):\n",
    "         outlier.append(x)\n",
    "print(' outlier in the dataset is', outlier)\n"
   ]
  },
  {
   "cell_type": "code",
   "execution_count": 42,
   "id": "4eec8755-7539-4ce3-8fcc-1dad10844bee",
   "metadata": {},
   "outputs": [
    {
     "data": {
      "text/plain": [
       "<Axes: >"
      ]
     },
     "execution_count": 42,
     "metadata": {},
     "output_type": "execute_result"
    },
    {
     "data": {
      "image/png": "[encoded data removed]",
      "text/plain": [
       "<Figure size 640x480 with 1 Axes>"
      ]
     },
     "metadata": {},
     "output_type": "display_data"
    }
   ],
   "source": [
    "sns.boxplot(sort_data)"
   ]
  },
  {
   "cell_type": "code",
   "execution_count": null,
   "id": "4d87ca3f-26a0-47ee-88d8-5a7b8768fe8a",
   "metadata": {},
   "outputs": [],
   "source": []
  }
 ],
 "metadata": {
  "kernelspec": {
   "display_name": "Python [conda env:base] *",
   "language": "python",
   "name": "conda-base-py"
  },
  "language_info": {
   "codemirror_mode": {
    "name": "ipython",
    "version": 3
   },
   "file_extension": ".py",
   "mimetype": "text/x-python",
   "name": "python",
   "nbconvert_exporter": "python",
   "pygments_lexer": "ipython3",
   "version": "3.12.7"
  }
 },
 "nbformat": 4,
 "nbformat_minor": 5
}
