{
 "cells": [
  {
   "cell_type": "code",
   "execution_count": 2,
   "id": "91e60526-3740-48e6-9da1-d0ab51cd7b84",
   "metadata": {},
   "outputs": [],
   "source": [
    "import pandas as pd"
   ]
  },
  {
   "cell_type": "code",
   "execution_count": 18,
   "id": "98fa2e21-f485-4c2c-9d65-04d38549d04a",
   "metadata": {},
   "outputs": [
    {
     "name": "stdout",
     "output_type": "stream",
     "text": [
      "   Name  Age Gender  Salary\n",
      "4  John   25   Male   50000\n",
      "   Name  Age Gender  Salary\n",
      "4  John   25   Male   50000\n",
      "      Name  Age  Gender  Salary\n",
      "0     John   25    Male   50000\n",
      "1    Alice   30  Female   55000\n",
      "2      Bob   22    Male   40000\n",
      "3      Eve   35  Female   70000\n",
      "5  Charlie   28    Male   48000\n"
     ]
    }
   ],
   "source": [
    "data = {'Name': ['John', 'Alice', 'Bob', 'Eve', 'John', 'Charlie'], \n",
    "        'Age': [25, 30, 22, 35, 25, 28], \n",
    "        'Gender': ['Male', 'Female', 'Male', 'Female', 'Male', 'Male'], \n",
    "        'Salary': [50000, 55000, 40000, 70000, 50000, 48000]}\n",
    "\n",
    "df = pd.DataFrame(data)\n",
    "# Find duplicate rows\n",
    "duplicates = df[df.duplicated()]\n",
    "print(duplicates)\n",
    "# Find duplicates based on 'Name' and 'Age' columns\n",
    "duplicates_by_columns = df[df.duplicated(subset=['Name', 'Age'])]\n",
    "print(duplicates_by_columns)\n",
    "# Remove duplicate rows\n",
    "df_no_duplicates = df.drop_duplicates()\n",
    "print(df_no_duplicates)\n",
    "\n"
   ]
  },
  {
   "cell_type": "code",
   "execution_count": 24,
   "id": "6637f71a-b826-4cf6-8b9f-642e33635249",
   "metadata": {},
   "outputs": [
    {
     "name": "stdout",
     "output_type": "stream",
     "text": [
      "    Name  Age     City\n",
      "1    Bob   30       LA\n",
      "2  Alice   25       NY\n",
      "3  David   40  Chicago\n",
      "    Name  Age     City\n",
      "1    Bob   30       LA\n",
      "3  David   40  Chicago\n",
      "    Name  Age     City\n",
      "0  Alice   25       NY\n",
      "1    Bob   30       LA\n",
      "3  David   40  Chicago\n"
     ]
    }
   ],
   "source": [
    "import pandas as pd\n",
    "\n",
    "df = pd.DataFrame({\n",
    "    'Name': ['Alice', 'Bob', 'Alice', 'David'],\n",
    "    'Age': [25, 30, 25, 40],\n",
    "    'City': ['NY', 'LA', 'NY', 'Chicago']\n",
    "})\n",
    "\n",
    "# Keep the last occurrence of duplicates\n",
    "result = df.drop_duplicates(keep='last')\n",
    "print(result)\n",
    "\n",
    "# Drop all duplicates\n",
    "result = df.drop_duplicates(keep=False)\n",
    "print(result)\n",
    "# Modify the DataFrame in place\n",
    "df.drop_duplicates(inplace=True)\n",
    "print(df)\n"
   ]
  },
  {
   "cell_type": "code",
   "execution_count": null,
   "id": "70eb8bf5-5696-466a-9733-e4eb79abc323",
   "metadata": {},
   "outputs": [],
   "source": []
  },
  {
   "cell_type": "code",
   "execution_count": null,
   "id": "054d52df-c871-4baa-96ce-bff4f148052a",
   "metadata": {},
   "outputs": [],
   "source": []
  }
 ],
 "metadata": {
  "kernelspec": {
   "display_name": "Python [conda env:base] *",
   "language": "python",
   "name": "conda-base-py"
  },
  "language_info": {
   "codemirror_mode": {
    "name": "ipython",
    "version": 3
   },
   "file_extension": ".py",
   "mimetype": "text/x-python",
   "name": "python",
   "nbconvert_exporter": "python",
   "pygments_lexer": "ipython3",
   "version": "3.12.7"
  }
 },
 "nbformat": 4,
 "nbformat_minor": 5
}
