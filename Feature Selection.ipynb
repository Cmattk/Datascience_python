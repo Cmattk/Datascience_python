{
 "cells": [
  {
   "cell_type": "markdown",
   "id": "0bed69ba-8e32-40d4-a63c-3d7bfe6f7135",
   "metadata": {},
   "source": [
    "Feature selection is the process of identifying and selecting a subset of relevant features for use in model construction. The goal is to enhance the model's performance by reducing overfitting, improving accuracy, and reducing training time.\n",
    "\n",
    "Improved Model Performance: \n",
    "By removing irrelevant or redundant features, we can improve the accuracy of the model.\n",
    "Reduced Overfitting: \n",
    "With fewer features, the model is less likely to learn noise from the training data.\n",
    "Faster Computation: \n",
    "Reducing the number of features decreases the computational cost and training time.\n",
    "\n",
    "\n",
    "\n",
    "Types of Feature Selection Methods\n",
    "\n",
    "Filter Methods: Filter methods use statistical techniques to evaluate the relevance of features independently of the model. Common techniques include correlation coefficients, chi-square tests, and mutual information.\n",
    "\n",
    "Wrapper Methods: Wrapper methods use a predictive model to evaluate feature subsets and select the best-performing combination. Techniques include recursive feature elimination (RFE) and forward/backward feature selection.\n",
    "\n",
    "Embedded Methods: Embedded methods perform feature selection during the model training process. Examples include Lasso (L1 regularization) and feature importance from tree-based models.\n",
    "\n",
    "\n",
    "\n",
    "Feature Selection Techniques with Scikit-Learn\n",
    "Scikit-Learn provides several tools for feature selection, including:\n",
    "\n",
    "Univariate Selection: Univariate selection evaluates each feature individually to determine its importance. Techniques like 'SelectKBest' and 'SelectPercentile' can be used to select the top features based on statistical tests.\n",
    "\n",
    "Recursive Feature Elimination (RFE): RFE is a wrapper method that recursively removes the least important features based on a model's performance. It repeatedly builds a model and eliminates the weakest features until the desired number of features is reached.\n",
    "\n",
    "Feature Importance from Tree-based Models: Tree-based models like 'decision trees' and 'random forests' can provide feature importance scores, indicating the importance of each feature in making predictions.\n"
   ]
  },
  {
   "cell_type": "code",
   "execution_count": 53,
   "id": "0307f7e7-80c4-40dc-b052-7ceeb3484c78",
   "metadata": {},
   "outputs": [
    {
     "name": "stdout",
     "output_type": "stream",
     "text": [
      "['sepal length (cm)', 'sepal width (cm)', 'petal length (cm)', 'petal width (cm)']\n",
      "['setosa' 'versicolor' 'virginica']\n",
      "   sepal length (cm)  sepal width (cm)  petal length (cm)  petal width (cm)\n",
      "0                5.1               3.5                1.4               0.2\n",
      "1                4.9               3.0                1.4               0.2\n",
      "2                4.7               3.2                1.3               0.2\n",
      "3                4.6               3.1                1.5               0.2\n",
      "4                5.0               3.6                1.4               0.2\n",
      "Shapes: X_train:(105, 4), X_test:(45, 4), y_train:(105,), y_test:(45,)\n"
     ]
    }
   ],
   "source": [
    "import pandas as pd\n",
    "from sklearn.datasets import load_iris\n",
    "from sklearn.model_selection import train_test_split\n",
    "\n",
    "# Load dataset\n",
    "data = load_iris()\n",
    "print(data.feature_names)\n",
    "print(data.target_names)\n",
    "X = pd.DataFrame(data.data, columns=data.feature_names)\n",
    "y = data.target\n",
    "print(X.head(5))\n",
    "\n",
    "# Split data into training and testing sets\n",
    "X_train, X_test, y_train, y_test = train_test_split(X, y, test_size=0.3, random_state=42)\n",
    "\n",
    "print(f\"Shapes: X_train:{X_train.shape}, X_test:{X_test.shape}, y_train:{y_train.shape}, y_test:{y_test.shape}\")"
   ]
  },
  {
   "cell_type": "markdown",
   "id": "1a6c0548-bb00-47ea-96d4-5063ce2173bd",
   "metadata": {},
   "source": [
    "We'll use 'SelectKBest' with the chi-square test to select the top 2 features."
   ]
  },
  {
   "cell_type": "code",
   "execution_count": 56,
   "id": "9d623c5e-3c5a-44ab-9c13-e73d28e05d27",
   "metadata": {},
   "outputs": [
    {
     "name": "stdout",
     "output_type": "stream",
     "text": [
      "Selected features: Index(['petal length (cm)', 'petal width (cm)'], dtype='object')\n"
     ]
    }
   ],
   "source": [
    "from sklearn.feature_selection import SelectKBest, chi2\n",
    "\n",
    "# Apply SelectKBest with chi2\n",
    "select_k_best = SelectKBest(score_func=chi2, k=2)\n",
    "X_train_k_best = select_k_best.fit_transform(X_train, y_train)\n",
    "\n",
    "print(\"Selected features:\", X_train.columns[select_k_best.get_support()])\n"
   ]
  },
  {
   "cell_type": "markdown",
   "id": "8aedc5a6-c3f1-4411-b23c-97056cada9cf",
   "metadata": {},
   "source": [
    "we'll use RFE with a logistic regression model to select the top 2 features."
   ]
  },
  {
   "cell_type": "code",
   "execution_count": 58,
   "id": "3920c57c-f294-417d-9aa3-f5d5a78b8374",
   "metadata": {},
   "outputs": [
    {
     "name": "stdout",
     "output_type": "stream",
     "text": [
      "Selected features: Index(['petal length (cm)', 'petal width (cm)'], dtype='object')\n"
     ]
    }
   ],
   "source": [
    "from sklearn.feature_selection import RFE\n",
    "from sklearn.linear_model import LogisticRegression\n",
    "\n",
    "# Apply RFE with logistic regression\n",
    "model = LogisticRegression()\n",
    "rfe = RFE(model, n_features_to_select=2)\n",
    "X_train_rfe = rfe.fit_transform(X_train, y_train)\n",
    "\n",
    "print(\"Selected features:\", X_train.columns[rfe.get_support()])\n"
   ]
  },
  {
   "cell_type": "markdown",
   "id": "5d19c777-27e1-4e5a-8c22-43b1d9b86759",
   "metadata": {},
   "source": [
    "we'll use a random forest classifier to determine feature importance."
   ]
  },
  {
   "cell_type": "code",
   "execution_count": 60,
   "id": "40ca4d5d-dcdc-4e9a-a478-d8f666b59204",
   "metadata": {},
   "outputs": [
    {
     "name": "stdout",
     "output_type": "stream",
     "text": [
      "petal length (cm)    0.449597\n",
      "petal width (cm)     0.422919\n",
      "sepal length (cm)    0.094227\n",
      "sepal width (cm)     0.033257\n",
      "dtype: float64\n"
     ]
    }
   ],
   "source": [
    "from sklearn.ensemble import RandomForestClassifier\n",
    "\n",
    "# Train random forest and get feature importances\n",
    "model = RandomForestClassifier()\n",
    "model.fit(X_train, y_train) # train model\n",
    "importances = model.feature_importances_ # extra feature importances\n",
    "\n",
    "# Display feature importances\n",
    "feature_importances = pd.Series(importances, index=X_train.columns)\n",
    "print(feature_importances.sort_values(ascending=False))\n"
   ]
  },
  {
   "cell_type": "markdown",
   "id": "b84bf350-ad74-4834-98ad-d1319f6f2e82",
   "metadata": {},
   "source": [
    "Scikit-Learn provides a variety of tools to help with feature selection, including univariate selection, recursive feature elimination, and feature importance from tree-based models. Implementing these techniques can significantly improve your model's performance and computational efficiency."
   ]
  }
 ],
 "metadata": {
  "kernelspec": {
   "display_name": "Python [conda env:base] *",
   "language": "python",
   "name": "conda-base-py"
  },
  "language_info": {
   "codemirror_mode": {
    "name": "ipython",
    "version": 3
   },
   "file_extension": ".py",
   "mimetype": "text/x-python",
   "name": "python",
   "nbconvert_exporter": "python",
   "pygments_lexer": "ipython3",
   "version": "3.12.7"
  }
 },
 "nbformat": 4,
 "nbformat_minor": 5
}
