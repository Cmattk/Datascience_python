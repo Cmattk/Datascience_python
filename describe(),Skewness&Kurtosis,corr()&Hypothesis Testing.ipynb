{
 "cells": [
  {
   "cell_type": "markdown",
   "id": "cb7dee55-3b3a-4612-8476-3c0cdc863e4e",
   "metadata": {},
   "source": [
    "describe() method in Pandas is used to generate descriptive statistics of DataFrame columns. It gives a quick summary of key statistical metrics like mean, standard deviation, percentiles, and more. By default, describe() works with numeric data but can also handle categorical data, offering tailored insights based on data type.\n",
    "\n",
    "Syntax: DataFrame.describe(percentiles=None, include=None, exclude=None)\n",
    "\n",
    "Parameters:\n",
    "\n",
    "\n",
    "percentiles: A list of numbers between 0 and 1, specifying which percentiles to return. The default is None, which returns the 25th, 50th, and 75th percentiles.\n",
    "\n",
    "include: A list of data types to include in the summary. You can specify data types such as int, float, object (for strings), etc. The default is None, meaning all numeric types are included.\n",
    "\n",
    "exclude: A list of data types to exclude from the summary. This parameter is also None by default, meaning no types are excluded.\n",
    "\n",
    "dataset: \"https://media.geeksforgeeks.org/wp-content/uploads/20241129175106825136/nba.csv\""
   ]
  },
  {
   "cell_type": "code",
   "execution_count": 2,
   "id": "4e6fcb7f-b564-4612-aee4-eb0f7c36f046",
   "metadata": {},
   "outputs": [],
   "source": [
    "import pandas as pd"
   ]
  },
  {
   "cell_type": "code",
   "execution_count": 3,
   "id": "7fa30949-123c-43de-8ae9-d3270540d137",
   "metadata": {},
   "outputs": [
    {
     "name": "stdout",
     "output_type": "stream",
     "text": [
      "NBA Dataset:\n"
     ]
    },
    {
     "data": {
      "text/html": [
       "<div>\n",
       "<style scoped>\n",
       "    .dataframe tbody tr th:only-of-type {\n",
       "        vertical-align: middle;\n",
       "    }\n",
       "\n",
       "    .dataframe tbody tr th {\n",
       "        vertical-align: top;\n",
       "    }\n",
       "\n",
       "    .dataframe thead th {\n",
       "        text-align: right;\n",
       "    }\n",
       "</style>\n",
       "<table border=\"1\" class=\"dataframe\">\n",
       "  <thead>\n",
       "    <tr style=\"text-align: right;\">\n",
       "      <th></th>\n",
       "      <th>Name</th>\n",
       "      <th>Team</th>\n",
       "      <th>Number</th>\n",
       "      <th>Position</th>\n",
       "      <th>Age</th>\n",
       "      <th>Height</th>\n",
       "      <th>Weight</th>\n",
       "      <th>College</th>\n",
       "      <th>Salary</th>\n",
       "    </tr>\n",
       "  </thead>\n",
       "  <tbody>\n",
       "    <tr>\n",
       "      <th>0</th>\n",
       "      <td>Avery Bradley</td>\n",
       "      <td>Boston Celtics</td>\n",
       "      <td>0.0</td>\n",
       "      <td>PG</td>\n",
       "      <td>25.0</td>\n",
       "      <td>6-2</td>\n",
       "      <td>180.0</td>\n",
       "      <td>Texas</td>\n",
       "      <td>7730337.0</td>\n",
       "    </tr>\n",
       "    <tr>\n",
       "      <th>1</th>\n",
       "      <td>Jae Crowder</td>\n",
       "      <td>Boston Celtics</td>\n",
       "      <td>99.0</td>\n",
       "      <td>SF</td>\n",
       "      <td>25.0</td>\n",
       "      <td>6-6</td>\n",
       "      <td>235.0</td>\n",
       "      <td>Marquette</td>\n",
       "      <td>6796117.0</td>\n",
       "    </tr>\n",
       "    <tr>\n",
       "      <th>2</th>\n",
       "      <td>John Holland</td>\n",
       "      <td>Boston Celtics</td>\n",
       "      <td>30.0</td>\n",
       "      <td>SG</td>\n",
       "      <td>27.0</td>\n",
       "      <td>6-5</td>\n",
       "      <td>205.0</td>\n",
       "      <td>Boston University</td>\n",
       "      <td>NaN</td>\n",
       "    </tr>\n",
       "    <tr>\n",
       "      <th>3</th>\n",
       "      <td>R.J. Hunter</td>\n",
       "      <td>Boston Celtics</td>\n",
       "      <td>28.0</td>\n",
       "      <td>SG</td>\n",
       "      <td>22.0</td>\n",
       "      <td>6-5</td>\n",
       "      <td>185.0</td>\n",
       "      <td>Georgia State</td>\n",
       "      <td>1148640.0</td>\n",
       "    </tr>\n",
       "    <tr>\n",
       "      <th>4</th>\n",
       "      <td>Jonas Jerebko</td>\n",
       "      <td>Boston Celtics</td>\n",
       "      <td>8.0</td>\n",
       "      <td>PF</td>\n",
       "      <td>29.0</td>\n",
       "      <td>6-10</td>\n",
       "      <td>231.0</td>\n",
       "      <td>NaN</td>\n",
       "      <td>5000000.0</td>\n",
       "    </tr>\n",
       "  </tbody>\n",
       "</table>\n",
       "</div>"
      ],
      "text/plain": [
       "            Name            Team  Number Position   Age Height  Weight  \\\n",
       "0  Avery Bradley  Boston Celtics     0.0       PG  25.0    6-2   180.0   \n",
       "1    Jae Crowder  Boston Celtics    99.0       SF  25.0    6-6   235.0   \n",
       "2   John Holland  Boston Celtics    30.0       SG  27.0    6-5   205.0   \n",
       "3    R.J. Hunter  Boston Celtics    28.0       SG  22.0    6-5   185.0   \n",
       "4  Jonas Jerebko  Boston Celtics     8.0       PF  29.0   6-10   231.0   \n",
       "\n",
       "             College     Salary  \n",
       "0              Texas  7730337.0  \n",
       "1          Marquette  6796117.0  \n",
       "2  Boston University        NaN  \n",
       "3      Georgia State  1148640.0  \n",
       "4                NaN  5000000.0  "
      ]
     },
     "metadata": {},
     "output_type": "display_data"
    },
    {
     "name": "stdout",
     "output_type": "stream",
     "text": [
      "\n",
      " Summary Table Generated by .describe() Method:\n"
     ]
    },
    {
     "data": {
      "text/html": [
       "<div>\n",
       "<style scoped>\n",
       "    .dataframe tbody tr th:only-of-type {\n",
       "        vertical-align: middle;\n",
       "    }\n",
       "\n",
       "    .dataframe tbody tr th {\n",
       "        vertical-align: top;\n",
       "    }\n",
       "\n",
       "    .dataframe thead th {\n",
       "        text-align: right;\n",
       "    }\n",
       "</style>\n",
       "<table border=\"1\" class=\"dataframe\">\n",
       "  <thead>\n",
       "    <tr style=\"text-align: right;\">\n",
       "      <th></th>\n",
       "      <th>Number</th>\n",
       "      <th>Age</th>\n",
       "      <th>Weight</th>\n",
       "      <th>Salary</th>\n",
       "    </tr>\n",
       "  </thead>\n",
       "  <tbody>\n",
       "    <tr>\n",
       "      <th>count</th>\n",
       "      <td>457.000000</td>\n",
       "      <td>457.000000</td>\n",
       "      <td>457.000000</td>\n",
       "      <td>4.460000e+02</td>\n",
       "    </tr>\n",
       "    <tr>\n",
       "      <th>mean</th>\n",
       "      <td>17.678337</td>\n",
       "      <td>26.938731</td>\n",
       "      <td>221.522976</td>\n",
       "      <td>4.842684e+06</td>\n",
       "    </tr>\n",
       "    <tr>\n",
       "      <th>std</th>\n",
       "      <td>15.966090</td>\n",
       "      <td>4.404016</td>\n",
       "      <td>26.368343</td>\n",
       "      <td>5.229238e+06</td>\n",
       "    </tr>\n",
       "    <tr>\n",
       "      <th>min</th>\n",
       "      <td>0.000000</td>\n",
       "      <td>19.000000</td>\n",
       "      <td>161.000000</td>\n",
       "      <td>3.088800e+04</td>\n",
       "    </tr>\n",
       "    <tr>\n",
       "      <th>25%</th>\n",
       "      <td>5.000000</td>\n",
       "      <td>24.000000</td>\n",
       "      <td>200.000000</td>\n",
       "      <td>1.044792e+06</td>\n",
       "    </tr>\n",
       "    <tr>\n",
       "      <th>50%</th>\n",
       "      <td>13.000000</td>\n",
       "      <td>26.000000</td>\n",
       "      <td>220.000000</td>\n",
       "      <td>2.839073e+06</td>\n",
       "    </tr>\n",
       "    <tr>\n",
       "      <th>75%</th>\n",
       "      <td>25.000000</td>\n",
       "      <td>30.000000</td>\n",
       "      <td>240.000000</td>\n",
       "      <td>6.500000e+06</td>\n",
       "    </tr>\n",
       "    <tr>\n",
       "      <th>max</th>\n",
       "      <td>99.000000</td>\n",
       "      <td>40.000000</td>\n",
       "      <td>307.000000</td>\n",
       "      <td>2.500000e+07</td>\n",
       "    </tr>\n",
       "  </tbody>\n",
       "</table>\n",
       "</div>"
      ],
      "text/plain": [
       "           Number         Age      Weight        Salary\n",
       "count  457.000000  457.000000  457.000000  4.460000e+02\n",
       "mean    17.678337   26.938731  221.522976  4.842684e+06\n",
       "std     15.966090    4.404016   26.368343  5.229238e+06\n",
       "min      0.000000   19.000000  161.000000  3.088800e+04\n",
       "25%      5.000000   24.000000  200.000000  1.044792e+06\n",
       "50%     13.000000   26.000000  220.000000  2.839073e+06\n",
       "75%     25.000000   30.000000  240.000000  6.500000e+06\n",
       "max     99.000000   40.000000  307.000000  2.500000e+07"
      ]
     },
     "metadata": {},
     "output_type": "display_data"
    }
   ],
   "source": [
    "# Reading the CSV file\n",
    "data = pd.read_csv('C:\\\\Users\\\\kasin\\\\Downloads\\\\nba.csv')\n",
    "\n",
    "# Displaying the first few rows of the dataset\n",
    "print(\"NBA Dataset:\")\n",
    "display(data.head())\n",
    "\n",
    "print(\"\\n Summary Table Generated by .describe() Method:\")\n",
    "display(data.describe())"
   ]
  },
  {
   "cell_type": "markdown",
   "id": "8703fcb9-da4f-4eec-aca9-3e970ad8dd87",
   "metadata": {},
   "source": [
    "Descriptive Statistics for Numerical Columns generated using .describe() Method\n",
    "\n",
    "count: Total number of non-null values in the column.\n",
    "mean: Average value of the column.\n",
    "std: Standard deviation, showing how spread out the values are.\n",
    "min: Minimum value in the column.\n",
    "25%: 25th percentile (Q1).\n",
    "50%: Median value (50th percentile).\n",
    "75%: 75th percentile (Q3).\n",
    "max: Maximum value in the column."
   ]
  },
  {
   "cell_type": "code",
   "execution_count": 5,
   "id": "6468a2a2-9a08-4df7-96c4-ddcba112d593",
   "metadata": {},
   "outputs": [
    {
     "name": "stdout",
     "output_type": "stream",
     "text": [
      "                 Name                  Team      Number Position         Age  \\\n",
      "count             457                   457  457.000000      457  457.000000   \n",
      "unique            457                    30         NaN        5         NaN   \n",
      "top     Avery Bradley  New Orleans Pelicans         NaN       SG         NaN   \n",
      "freq                1                    19         NaN      102         NaN   \n",
      "mean              NaN                   NaN   17.678337      NaN   26.938731   \n",
      "std               NaN                   NaN   15.966090      NaN    4.404016   \n",
      "min               NaN                   NaN    0.000000      NaN   19.000000   \n",
      "20%               NaN                   NaN    4.000000      NaN   23.000000   \n",
      "40%               NaN                   NaN   10.000000      NaN   25.000000   \n",
      "50%               NaN                   NaN   13.000000      NaN   26.000000   \n",
      "60%               NaN                   NaN   18.600000      NaN   27.000000   \n",
      "80%               NaN                   NaN   30.000000      NaN   30.000000   \n",
      "max               NaN                   NaN   99.000000      NaN   40.000000   \n",
      "\n",
      "       Height      Weight   College        Salary  \n",
      "count     457  457.000000       373  4.460000e+02  \n",
      "unique     18         NaN       118           NaN  \n",
      "top       6-9         NaN  Kentucky           NaN  \n",
      "freq       59         NaN        22           NaN  \n",
      "mean      NaN  221.522976       NaN  4.842684e+06  \n",
      "std       NaN   26.368343       NaN  5.229238e+06  \n",
      "min       NaN  161.000000       NaN  3.088800e+04  \n",
      "20%       NaN  195.600000       NaN  9.472760e+05  \n",
      "40%       NaN  213.400000       NaN  1.938840e+06  \n",
      "50%       NaN  220.000000       NaN  2.839073e+06  \n",
      "60%       NaN  230.000000       NaN  3.815000e+06  \n",
      "80%       NaN  245.000000       NaN  8.042895e+06  \n",
      "max       NaN  307.000000       NaN  2.500000e+07  \n"
     ]
    }
   ],
   "source": [
    "percentiles = [.20, .40, .60, .80]\n",
    "include = ['object', 'float', 'int']\n",
    "\n",
    "desc = data.describe(percentiles=percentiles, include=include)\n",
    "\n",
    "print(desc)"
   ]
  },
  {
   "cell_type": "code",
   "execution_count": 6,
   "id": "96ce0ad2-5d78-405f-8b2d-9e4a53081d96",
   "metadata": {},
   "outputs": [
    {
     "name": "stdout",
     "output_type": "stream",
     "text": [
      "count               457\n",
      "unique              457\n",
      "top       Avery Bradley\n",
      "freq                  1\n",
      "Name: Name, dtype: object\n"
     ]
    }
   ],
   "source": [
    "desc = data[\"Name\"].describe()\n",
    "\n",
    "print(desc)\n"
   ]
  },
  {
   "cell_type": "markdown",
   "id": "4fbbfaf8-56c9-498d-b100-b88a6e0edd23",
   "metadata": {},
   "source": [
    "count: Total number of non-null values.\n",
    "unique: The number of unique values.\n",
    "top: The most frequent value.\n",
    "freq: The frequency of the most common value."
   ]
  },
  {
   "cell_type": "markdown",
   "id": "bcd6f4c9-0123-4601-999d-72b8830626ce",
   "metadata": {},
   "source": [
    "How to Calculate Skewness and Kurtosis\n",
    "\n",
    "Skewness: \n",
    "It is a statistical term and it is a way to estimate or measure the shape of a distribution.  It is an important statistical methodology that is used to estimate the asymmetrical behavior rather than computing frequency distribution. Skewness can be two types:\n",
    "\n",
    "Symmetrical: A distribution can be called symmetric if it appears the same from the left and right from the center point.\n",
    "Asymmetrical: A distribution can be called asymmetric if it doesn’t appear the same from the left and right from the center point.\n",
    "\n",
    "Distribution on the basis of skewness value:\n",
    "\n",
    "Skewness = 0: Then normally distributed.\n",
    "Skewness > 0: Then more weight in the left tail of the distribution.\n",
    "Skewness < 0: Then more weight in the right tail of the distribution.\n",
    "\n",
    "Kurtosis:\n",
    "It is also a statistical term and an important characteristic of frequency distribution. It determines whether a distribution is heavy-tailed in respect of the normal distribution. It provides information about the shape of a frequency distribution.\n",
    "\n",
    "***(A frequency distribution is a table or graph that shows how often a value occurs in a data set. It's a way to organize data so that it's easier to understand. \n",
    "How it works \n",
    "Frequency: The number of times a value occurs in a data set\n",
    "Distribution: The pattern of frequencies of a variable)***\n",
    "\n",
    "kurtosis for normal distribution is equal to 3.\n",
    "For a distribution having kurtosis < 3: It is called playkurtic.\n",
    "For a distribution having kurtosis > 3, It is called leptokurtic and it signifies that it tries to produce more outliers rather than the normal distribution.\n"
   ]
  },
  {
   "cell_type": "code",
   "execution_count": 9,
   "id": "901f5ac4-fb4c-4e47-96d4-4b2335d77240",
   "metadata": {},
   "outputs": [],
   "source": [
    "# Importing scipy \n",
    "from scipy.stats import skew , kurtosis"
   ]
  },
  {
   "cell_type": "code",
   "execution_count": 10,
   "id": "a4ecf8ae-013a-4257-8298-e59481ce4736",
   "metadata": {},
   "outputs": [
    {
     "name": "stdout",
     "output_type": "stream",
     "text": [
      "0.029\n"
     ]
    },
    {
     "data": {
      "text/plain": [
       "'It signifies that the distribution is positively skewed'"
      ]
     },
     "execution_count": 10,
     "metadata": {},
     "output_type": "execute_result"
    }
   ],
   "source": [
    "# Creating a dataset \n",
    "dataset = [88, 85, 82, 97, 67, 77, 74, 86,  \n",
    "           81, 95, 77, 88, 85, 76, 81] \n",
    "# Calculate the skewness \n",
    "print(skew(dataset, axis=0, bias=True).round(3))\n",
    "\n",
    "\"\"\"It signifies that the distribution is positively skewed\"\"\""
   ]
  },
  {
   "cell_type": "markdown",
   "id": "98ba69f1-204e-491f-b087-14a63019ae89",
   "metadata": {},
   "source": [
    "scipy.stats.kurtosis(array, axis=0, fisher=True, bias=True)\n",
    "Parameters:\n",
    "fisher = True: The fisher’s definition will be used (normal 0.0).\n",
    "fisher =  False: The Pearson’s definition will be used (normal 3.0).\n",
    "Bias = True: Calculations are corrected for statistical bias, if set to False."
   ]
  },
  {
   "cell_type": "code",
   "execution_count": 12,
   "id": "02ff84e6-bba6-43f1-97ef-e0f71dab531c",
   "metadata": {},
   "outputs": [
    {
     "name": "stdout",
     "output_type": "stream",
     "text": [
      "-0.29271198374234686\n"
     ]
    },
    {
     "data": {
      "text/plain": [
       "'It signifies that the distribution has more values in the tails compared to a normal distribution.'"
      ]
     },
     "execution_count": 12,
     "metadata": {},
     "output_type": "execute_result"
    }
   ],
   "source": [
    "# Calculate the kurtosis \n",
    "print(kurtosis(dataset, axis=0, bias=True))\n",
    "\n",
    "\"\"\"It signifies that the distribution has more values in the tails compared to a normal distribution.\"\"\""
   ]
  },
  {
   "cell_type": "markdown",
   "id": "abbe34ce-1400-4fae-84a6-89469078b0f4",
   "metadata": {},
   "source": [
    "Difference Between Skewness and Kurtosis:\n",
    "\"https://www.geeksforgeeks.org/difference-between-skewness-and-kurtosis/?ref=next_article\""
   ]
  },
  {
   "cell_type": "markdown",
   "id": "90363130-ad11-4ca8-a038-0f69fca36987",
   "metadata": {},
   "source": [
    "# Pandas DataFrame corr() Method\n",
    "Pandas dataframe.corr() is used to find the pairwise correlation of all columns in the Pandas Dataframe in Python. Any NaN values are automatically excluded. To ignore any non-numeric values, use the parameter numeric_only = True. \n",
    "\n",
    "DataFrame.corr(method=’pearson’, min_periods=1, numeric_only = False) \n",
    "\n",
    "\n",
    "Parameters:  \n",
    "method:\n",
    "    pearson: standard correlation coefficient \n",
    "    kendall: Kendall Tau correlation coefficient \n",
    "    spearman: Spearman rank correlation\n",
    "min_periods: Minimum number of observations required per pair of columns to have a valid result. Currently only available for pearson and spearman correlation\n",
    "numeric_only: Whether only the numeric values are to be operated upon or not. It is set to False by default.\n",
    "\n",
    "A good correlation depends on the use, but it is safe to say you have at least 0.6 (or -0.6) to call it a good correlation. \n",
    "\n",
    "+1 indicates a perfect positive linear relationship,\n",
    "-1 indicates a perfect negative linear relationship,\n",
    "0 indicates no linear relationship.\n",
    "\n"
   ]
  },
  {
   "cell_type": "code",
   "execution_count": 22,
   "id": "deead322-c9cc-4044-9b98-533bfa92909b",
   "metadata": {},
   "outputs": [
    {
     "data": {
      "text/html": [
       "<div>\n",
       "<style scoped>\n",
       "    .dataframe tbody tr th:only-of-type {\n",
       "        vertical-align: middle;\n",
       "    }\n",
       "\n",
       "    .dataframe tbody tr th {\n",
       "        vertical-align: top;\n",
       "    }\n",
       "\n",
       "    .dataframe thead th {\n",
       "        text-align: right;\n",
       "    }\n",
       "</style>\n",
       "<table border=\"1\" class=\"dataframe\">\n",
       "  <thead>\n",
       "    <tr style=\"text-align: right;\">\n",
       "      <th></th>\n",
       "      <th>Number</th>\n",
       "      <th>Age</th>\n",
       "      <th>Weight</th>\n",
       "      <th>Salary</th>\n",
       "    </tr>\n",
       "  </thead>\n",
       "  <tbody>\n",
       "    <tr>\n",
       "      <th>Number</th>\n",
       "      <td>1.000000</td>\n",
       "      <td>0.028724</td>\n",
       "      <td>0.206921</td>\n",
       "      <td>-0.112386</td>\n",
       "    </tr>\n",
       "    <tr>\n",
       "      <th>Age</th>\n",
       "      <td>0.028724</td>\n",
       "      <td>1.000000</td>\n",
       "      <td>0.087183</td>\n",
       "      <td>0.213459</td>\n",
       "    </tr>\n",
       "    <tr>\n",
       "      <th>Weight</th>\n",
       "      <td>0.206921</td>\n",
       "      <td>0.087183</td>\n",
       "      <td>1.000000</td>\n",
       "      <td>0.138321</td>\n",
       "    </tr>\n",
       "    <tr>\n",
       "      <th>Salary</th>\n",
       "      <td>-0.112386</td>\n",
       "      <td>0.213459</td>\n",
       "      <td>0.138321</td>\n",
       "      <td>1.000000</td>\n",
       "    </tr>\n",
       "  </tbody>\n",
       "</table>\n",
       "</div>"
      ],
      "text/plain": [
       "          Number       Age    Weight    Salary\n",
       "Number  1.000000  0.028724  0.206921 -0.112386\n",
       "Age     0.028724  1.000000  0.087183  0.213459\n",
       "Weight  0.206921  0.087183  1.000000  0.138321\n",
       "Salary -0.112386  0.213459  0.138321  1.000000"
      ]
     },
     "execution_count": 22,
     "metadata": {},
     "output_type": "execute_result"
    }
   ],
   "source": [
    "# To find the correlation among\n",
    "# the columns using pearson method\n",
    "data.corr(method='pearson',numeric_only = True)\n"
   ]
  },
  {
   "cell_type": "code",
   "execution_count": 24,
   "id": "d60781e7-639e-4049-bbd2-35674a1946db",
   "metadata": {},
   "outputs": [
    {
     "data": {
      "text/html": [
       "<div>\n",
       "<style scoped>\n",
       "    .dataframe tbody tr th:only-of-type {\n",
       "        vertical-align: middle;\n",
       "    }\n",
       "\n",
       "    .dataframe tbody tr th {\n",
       "        vertical-align: top;\n",
       "    }\n",
       "\n",
       "    .dataframe thead th {\n",
       "        text-align: right;\n",
       "    }\n",
       "</style>\n",
       "<table border=\"1\" class=\"dataframe\">\n",
       "  <thead>\n",
       "    <tr style=\"text-align: right;\">\n",
       "      <th></th>\n",
       "      <th>Number</th>\n",
       "      <th>Age</th>\n",
       "      <th>Weight</th>\n",
       "      <th>Salary</th>\n",
       "    </tr>\n",
       "  </thead>\n",
       "  <tbody>\n",
       "    <tr>\n",
       "      <th>Number</th>\n",
       "      <td>1.000000</td>\n",
       "      <td>0.005536</td>\n",
       "      <td>0.155850</td>\n",
       "      <td>-0.075301</td>\n",
       "    </tr>\n",
       "    <tr>\n",
       "      <th>Age</th>\n",
       "      <td>0.005536</td>\n",
       "      <td>1.000000</td>\n",
       "      <td>0.066130</td>\n",
       "      <td>0.172616</td>\n",
       "    </tr>\n",
       "    <tr>\n",
       "      <th>Weight</th>\n",
       "      <td>0.155850</td>\n",
       "      <td>0.066130</td>\n",
       "      <td>1.000000</td>\n",
       "      <td>0.087165</td>\n",
       "    </tr>\n",
       "    <tr>\n",
       "      <th>Salary</th>\n",
       "      <td>-0.075301</td>\n",
       "      <td>0.172616</td>\n",
       "      <td>0.087165</td>\n",
       "      <td>1.000000</td>\n",
       "    </tr>\n",
       "  </tbody>\n",
       "</table>\n",
       "</div>"
      ],
      "text/plain": [
       "          Number       Age    Weight    Salary\n",
       "Number  1.000000  0.005536  0.155850 -0.075301\n",
       "Age     0.005536  1.000000  0.066130  0.172616\n",
       "Weight  0.155850  0.066130  1.000000  0.087165\n",
       "Salary -0.075301  0.172616  0.087165  1.000000"
      ]
     },
     "execution_count": 24,
     "metadata": {},
     "output_type": "execute_result"
    }
   ],
   "source": [
    "# To find the correlation among the columns using kendall method\n",
    "data.corr(method='kendall', numeric_only = True)"
   ]
  },
  {
   "cell_type": "code",
   "execution_count": 26,
   "id": "56aaef50-a169-415f-b2f7-b8639748a62d",
   "metadata": {},
   "outputs": [
    {
     "data": {
      "text/html": [
       "<div>\n",
       "<style scoped>\n",
       "    .dataframe tbody tr th:only-of-type {\n",
       "        vertical-align: middle;\n",
       "    }\n",
       "\n",
       "    .dataframe tbody tr th {\n",
       "        vertical-align: top;\n",
       "    }\n",
       "\n",
       "    .dataframe thead th {\n",
       "        text-align: right;\n",
       "    }\n",
       "</style>\n",
       "<table border=\"1\" class=\"dataframe\">\n",
       "  <thead>\n",
       "    <tr style=\"text-align: right;\">\n",
       "      <th></th>\n",
       "      <th>Number</th>\n",
       "      <th>Age</th>\n",
       "      <th>Weight</th>\n",
       "      <th>Salary</th>\n",
       "    </tr>\n",
       "  </thead>\n",
       "  <tbody>\n",
       "    <tr>\n",
       "      <th>Number</th>\n",
       "      <td>1.000000</td>\n",
       "      <td>0.008490</td>\n",
       "      <td>0.226084</td>\n",
       "      <td>-0.114683</td>\n",
       "    </tr>\n",
       "    <tr>\n",
       "      <th>Age</th>\n",
       "      <td>0.008490</td>\n",
       "      <td>1.000000</td>\n",
       "      <td>0.096163</td>\n",
       "      <td>0.266299</td>\n",
       "    </tr>\n",
       "    <tr>\n",
       "      <th>Weight</th>\n",
       "      <td>0.226084</td>\n",
       "      <td>0.096163</td>\n",
       "      <td>1.000000</td>\n",
       "      <td>0.127628</td>\n",
       "    </tr>\n",
       "    <tr>\n",
       "      <th>Salary</th>\n",
       "      <td>-0.114683</td>\n",
       "      <td>0.266299</td>\n",
       "      <td>0.127628</td>\n",
       "      <td>1.000000</td>\n",
       "    </tr>\n",
       "  </tbody>\n",
       "</table>\n",
       "</div>"
      ],
      "text/plain": [
       "          Number       Age    Weight    Salary\n",
       "Number  1.000000  0.008490  0.226084 -0.114683\n",
       "Age     0.008490  1.000000  0.096163  0.266299\n",
       "Weight  0.226084  0.096163  1.000000  0.127628\n",
       "Salary -0.114683  0.266299  0.127628  1.000000"
      ]
     },
     "execution_count": 26,
     "metadata": {},
     "output_type": "execute_result"
    }
   ],
   "source": [
    "# To find the correlation among the columns using kendall method\n",
    "data.corr(method='spearman',numeric_only = True)"
   ]
  },
  {
   "cell_type": "markdown",
   "id": "9478da96-eca4-4e58-9e7b-f312a868a3a6",
   "metadata": {},
   "source": [
    "Understanding Hypothesis Testing\n",
    "\n",
    "Hypothesis method compares two opposite statements about a population and uses sample data to decide which one is more likely to be correct.\n",
    "To test this assumption we first take a sample from the population and analyze it and use the results of the analysis to decide if the claim is valid or not.\n",
    "\n",
    "Null hypothesis (H0): The null hypothesis is the starting assumption in statistics. It says there is no relationship between groups.\n",
    "eg.  A company claims its average production is 50 units per day then here:\n",
    "Null Hypothesis: H₀: The mean number of daily production (μ) = 50.\n",
    "\n",
    "Alternative hypothesis (H1): The alternative hypothesis is the opposite of the null hypothesis it suggests there is a difference between groups.\n",
    "e.g  The alternative hypothesis is the opposite of the null hypothesis it suggests there is a difference between groups. like The company’s production is not equal to 50 units per day then the alternative hypothesis would be:\n",
    "H₁: The mean number of daily production (μ) ≠ 50.\n",
    "\n",
    "Key Terms of Hypothesis Testing\n",
    "1. Level of significance: \n",
    "It refers to the degree of significance in which we accept or reject the null hypothesis.(your output should be 95% confident to give a similar kind of result in each sample.)\n",
    "\n",
    "2. P-value: \n",
    "When analyzing data the p-value tells you the likelihood of seeing your result if the null hypothesis is true. If your P-value is less than the chosen significance level then you reject the null hypothesis otherwise accept it.\n",
    "\n",
    "3. Test Statistic: \n",
    "Test statistic is the number that helps you decide whether your result is significant. It’s calculated from the sample data you collect it could be used to test if a machine learning model performs better than a random guess.\n",
    "\n",
    "4. Critical value: \n",
    "Critical value is a boundary or threshold that helps you decide if your test statistic is enough to reject the null hypothesis\n",
    "\n",
    "5. Degrees of freedom: Degrees of freedom are important when we conduct statistical tests they help you understand how much data can vary.\n",
    "\n",
    "Types of Hypothesis Testing\n",
    "\n",
    "1. One-Tailed Test\n",
    "A one-tailed test is used when we expect a change in only one direction—either an increase or a decrease but not both.\n",
    "\n",
    "Let’s say if we’re analyzing data to see if a new algorithm improves accuracy we would only focus on whether the accuracy goes up not down.\n",
    "\n",
    "The test looks at just one side of the data to decide if the result is enough to reject the null hypothesis. If the data falls in the critical region on that side then we reject the null hypothesis.\n",
    "\n",
    "There are two types of one-tailed test:\n",
    "\n",
    "Left-Tailed (Left-Sided) Test: If the alternative hypothesis say that the true parameter value is less than the null hypothesis. then it is a Left tailed test. Example: H0: μ ≥ 50 and H1: μ < 50\n",
    "Right-Tailed (Right-Sided) Test: when the alternative hypothesis say that the true parameter value is greater than the null hypothesis then it is called Right Tailed test. Example: H0: μ ≤ 50 and H1: μ > 50\n",
    "\n",
    "2. Two-Tailed Test\n",
    "A two-tailed test is used when we want to check for a significant difference in both directions—whether the result is greater than or less than a specific value. We use this test when we don’t have a specific expectation about the direction of change.\n",
    "\n",
    "If we are testing whether a new marketing strategy affects sales we want to know if sales increase or decrease so we look at both possibilities.\n",
    "\n",
    "Example: H0: μ = 50 and H1: μ ≠ 50\n",
    "\n",
    "To go deeper into differences into both types of test: Refer to link \n",
    "\"https://www.geeksforgeeks.org/difference-between-one-tailed-and-two-tailed-tests/\"\n",
    "\n",
    "Type I error: When we reject the null hypothesis although that hypothesis was true. Type I error is denoted by alpha(α).(False Negative)\n",
    "\n",
    "Type II errors: When we accept the null hypothesis but it is false. Type II errors are denoted by beta(β).(False Positive)\n",
    "\n",
    "Example:\n",
    "Imagine we want to test if a new recommendation algorithm increases user engagement.\n",
    "1. Definition:\n",
    "(H₀): The new algorithm has no effect on user engagement.\n",
    "(H₁): The new algorithm increases user engagement.\n",
    "\n",
    "2. choose a significance level (α):\n",
    "commonly set at 0.05. This level defines the threshold for deciding if the results are statistically significant.\n",
    "It also tells us the probability of making a Type I error—rejecting a true null hypothesis.\n",
    "\n",
    "3. Collect and Analyze data.\n",
    "we gather data this could come from user observations or an experiment.\n",
    "Once collected we analyze the data using appropriate statistical methods to calculate the test statistic.\n",
    "Example: We collect data on user engagement before and after implementing the algorithm. We can also find the mean engagement scores for each group.\n",
    "\n",
    "4. Calculate Test Statistic\n",
    "The test statistic is a measure used to determine if the sample data support in reject the null hypothesis. The choice of the test statistic depends on the type of hypothesis test being conducted it could be a Z-test, Chi-square, T-test and so on. For our example we are dealing with a t-test because:\n",
    "We have a smaller sample size.\n",
    "The population standard deviation is unknown.\n",
    "T-statistic is a measure of the difference between the means of two groups relative to the variability within each group. It is calculated as the difference between the sample means divided by the standard error of the difference. It is also known as the t-value or t-score.\n",
    "\n",
    "\n",
    "5. Comparing Test Statistic\n",
    "Now we compare the test statistic to either the critical value or the p-value to decide whether to reject the null hypothesis or not.\n",
    "\n",
    "Method A: \n",
    "Using Critical values: \n",
    "We refer to a statistical distribution table like the t-distribution in this case to find the critical value based on the chosen significance level (α).\n",
    "\n",
    "If Test Statistic > Critical Value then we Reject the null hypothesis.\n",
    "If Test Statistic ≤ Critical Value then we fail to reject the null hypothesis.\n",
    "Example: If the p-value is 0.03 and α is 0.05 then we reject the null hypothesis because the p-value is smaller than the significance level.\n",
    "\n",
    "Note: Critical values are predetermined threshold values that are used to make a decision in hypothesis testing. To determine critical values for hypothesis testing, we typically refer to a statistical distribution table such as the normal distribution or t-distribution tables based on.\n",
    "\n",
    "\n",
    "Method B:\n",
    "Using P-values:\n",
    "We can also come to an conclusion using the p-value\n",
    "If the p-value ≤ significance level (p ≤ α) then you reject the null hypothesis.\n",
    "If the p-value ≥ significance level (p ≥ α) then you fail to reject the null hypothesis.\n",
    "Note: To determine p-value for hypothesis testing we typically refer to a statistical distribution table such as the normal distribution or t-distribution tables based on.\n",
    " \n",
    "\n",
    "6. Interpret the Results\n",
    "Based on the comparison of the test statistic to the critical value or p-value we can conclude whether there is enough evidence to reject the null hypothesis or not.\n",
    "\n",
    "1. Z-statistics:\n",
    "It is used when population means and standard deviations are known. The formula of z-statistics is given by:\n",
    "    z = x̄ - μ  /  σ/√n\n",
    "\n",
    "where\n",
    "x̄ is the sample mean,\n",
    "μ represents the population mean, \n",
    "σ is the standard deviation\n",
    "and n is the size of the sample.\n",
    "\n",
    "\n",
    "2. T-Statistics\n",
    "T-test is used to compare the means of two datasets (e.g., experimental vs. control groups) to assess if the difference is statistically significant. It is used when n<30 t-statistic calculation is given by:\n",
    "\n",
    "t = x̄ - μ / s/√n\n",
    "\n",
    "where\n",
    "t = t-score,\n",
    "x̄ = sample mean\n",
    "μ = population mean,\n",
    "s = standard deviation of the sample,\n",
    "n = sample size\n",
    "\n",
    "3. Chi-Square Test\n",
    "Chi-Square Test compares the observed frequency distribution of data to the expected distribution to see if the differences are just random or meaningful using:\n",
    "χ2 = ∑ (Oij - Eij)2 / Eij\n",
    "where:\n",
    "Oij is the observed frequency in cell \n",
    "i,j are the rows and columns index respectively.\n",
    "Eij is the expected frequency in cell ij, calculated as : \n",
    "    Row total × Column total / Total observations\n",
    "\n",
    "Real life Examples of Hypothesis Testing:\n",
    "\n",
    "Imagine a pharmaceutical company has developed a new drug that they believe can effectively lower blood pressure in patients with hypertension. Before bringing the drug to market they need to conduct a study to see its impact on blood pressure.\n",
    "\n",
    "Data:\n",
    "Before Treatment: 120, 122, 118, 130, 125, 128, 115, 121, 123, 119\n",
    "After Treatment: 115, 120, 112, 128, 122, 125, 110, 117, 119, 114\n",
    "\n",
    "(H0)The new drug has no effect on blood pressure.\n",
    "(H1)The new drug has an effect on blood pressure.\n",
    "Significance level at 0.05 \n",
    "   \n"
   ]
  },
  {
   "cell_type": "code",
   "execution_count": 28,
   "id": "3b2d2558-24f7-4155-8ad5-150e58288480",
   "metadata": {},
   "outputs": [],
   "source": [
    "import numpy as np\n",
    "from scipy import stats"
   ]
  },
  {
   "cell_type": "code",
   "execution_count": 30,
   "id": "60cf227a-fc52-4508-9770-e918e9cfd088",
   "metadata": {},
   "outputs": [],
   "source": [
    "before_treatment = np.array([120, 122, 118, 130, 125, 128, 115, 121, 123, 119])\n",
    "after_treatment = np.array([115, 120, 112, 128, 122, 125, 110, 117, 119, 114])"
   ]
  },
  {
   "cell_type": "code",
   "execution_count": 32,
   "id": "37fcb542-e11d-459f-ac20-150cb54807f5",
   "metadata": {},
   "outputs": [],
   "source": [
    "null_hypothesis = \"The new drug has no effect on blood pressure.\"\n",
    "alternate_hypothesis = \"The new drug has an effect on blood pressure.\"\n",
    "alpha = 0.05"
   ]
  },
  {
   "cell_type": "code",
   "execution_count": 44,
   "id": "1ca8452f-474a-4708-82ca-06ffbcf810a6",
   "metadata": {},
   "outputs": [
    {
     "name": "stdout",
     "output_type": "stream",
     "text": [
      "t_statistic: -9.0\n",
      "p_value: 8.538051223166285e-06\n"
     ]
    }
   ],
   "source": [
    "t_statistic, p_value = stats.ttest_rel(after_treatment, before_treatment)\n",
    "print(\"t_statistic:\",t_statistic)\n",
    "print(\"p_value:\", p_value)"
   ]
  },
  {
   "cell_type": "code",
   "execution_count": 96,
   "id": "d70861b3-9b0a-4f5c-a2f9-f3972d196487",
   "metadata": {},
   "outputs": [],
   "source": [
    "# m = np.subtract(after_treatment,before_treatment).mean()"
   ]
  },
  {
   "cell_type": "code",
   "execution_count": 98,
   "id": "26abab23-01c6-40fd-8b29-a163c0297669",
   "metadata": {},
   "outputs": [
    {
     "name": "stdout",
     "output_type": "stream",
     "text": [
      "T-statistic (from scipy): -9.0\n",
      "P-value (from scipy): 8.538051223166285e-06\n",
      "T-statistic (calculated manually): -9.0\n",
      "Decision: Reject the null hypothesis at alpha=0.05.\n",
      "Conclusion: There is insufficient evidence to claim a significant difference in average blood pressure before and after treatment with the new drug.\n"
     ]
    }
   ],
   "source": [
    "m = np.mean(after_treatment - before_treatment)\n",
    "s = np.std(after_treatment - before_treatment, ddof=1)  # using ddof=1 for sample standard deviation\n",
    "n = len(before_treatment)\n",
    "t_statistic_manual = m / (s / np.sqrt(n))\n",
    "\n",
    "if p_value <= alpha:\n",
    "    decision = \"Reject\"\n",
    "else:\n",
    "    decision = \"Fail to reject\"\n",
    "\n",
    "if decision == \"Fail to reject\":\n",
    "    conclusion = \"There is statistically significant evidence that the average blood pressure before and after treatment with the new drug is different.\"\n",
    "else:\n",
    "    conclusion = \"There is insufficient evidence to claim a significant difference in average blood pressure before and after treatment with the new drug.\"\n",
    "print(\"T-statistic (from scipy):\", t_statistic)\n",
    "print(\"P-value (from scipy):\", p_value)\n",
    "print(\"T-statistic (calculated manually):\", t_statistic_manual)\n",
    "print(f\"Decision: {decision} the null hypothesis at alpha={alpha}.\")\n",
    "print(\"Conclusion:\", conclusion)"
   ]
  },
  {
   "cell_type": "markdown",
   "id": "41f9658c-f4cd-4e47-8541-0c0bc96b375e",
   "metadata": {},
   "source": [
    "the T-statistic of approximately -9 and an extremely small p-value the results indicate a strong case to reject the null hypothesis at a significance level of 0.05.\n",
    "\n",
    "The results suggest that the new drug or treatment has a significant effect on lowering blood pressure.\n",
    "The negative T-statistic indicates that the mean blood pressure after treatment is significantly lower than the assumed population mean before treatment."
   ]
  },
  {
   "cell_type": "markdown",
   "id": "96aa0ee9-e6a0-4c9a-99ba-7a6c04e101d0",
   "metadata": {},
   "source": [
    "Limitations of Hypothesis Testing\n",
    "Although hypothesis testing is a useful technique but it have some limitations as well:\n",
    "\n",
    "Limited Scope: Hypothesis testing focuses on specific questions or assumptions and not capture the complexity of the problem being studied.\n",
    "\n",
    "Data Quality Dependence: The accuracy of the results depends on the quality of the data. Poor-quality or inaccurate data can led to incorrect conclusions.\n",
    "\n",
    "Missed Patterns: By focusing only on testing specific hypotheses important patterns or relationships in the data might be missed.\n",
    "\n",
    "Context Limitations: It doesn’t always consider the bigger picture which can oversimplify results and led to incomplete insights.\n",
    "\n",
    "Need for Additional Methods: To get a better understanding of the data hypothesis testing should be combined with other analytical methods such as data visualization or machine learning techniques."
   ]
  },
  {
   "cell_type": "code",
   "execution_count": null,
   "id": "c79e20a2-cc74-407e-9fcf-bfec9ee46618",
   "metadata": {},
   "outputs": [],
   "source": []
  }
 ],
 "metadata": {
  "kernelspec": {
   "display_name": "Python [conda env:base] *",
   "language": "python",
   "name": "conda-base-py"
  },
  "language_info": {
   "codemirror_mode": {
    "name": "ipython",
    "version": 3
   },
   "file_extension": ".py",
   "mimetype": "text/x-python",
   "name": "python",
   "nbconvert_exporter": "python",
   "pygments_lexer": "ipython3",
   "version": "3.12.7"
  }
 },
 "nbformat": 4,
 "nbformat_minor": 5
}
