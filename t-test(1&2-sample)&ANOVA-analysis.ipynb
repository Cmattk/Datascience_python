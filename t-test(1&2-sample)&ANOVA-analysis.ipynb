{
 "cells": [
  {
   "cell_type": "markdown",
   "id": "c7aa8623-45b5-4ae3-9533-ec9ccf6cd269",
   "metadata": {},
   "source": [
    "One Sample T-Test in Python\n",
    "The one-sample t-test is a statistical hypothesis test that can be used to see if the mean of an unknown population differs from a given or known value. "
   ]
  }
 ],
 "metadata": {
  "kernelspec": {
   "display_name": "Python [conda env:base] *",
   "language": "python",
   "name": "conda-base-py"
  },
  "language_info": {
   "codemirror_mode": {
    "name": "ipython",
    "version": 3
   },
   "file_extension": ".py",
   "mimetype": "text/x-python",
   "name": "python",
   "nbconvert_exporter": "python",
   "pygments_lexer": "ipython3",
   "version": "3.12.7"
  }
 },
 "nbformat": 4,
 "nbformat_minor": 5
}
